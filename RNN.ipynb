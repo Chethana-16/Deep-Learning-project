{
 "cells": [
  {
   "cell_type": "code",
   "execution_count": 1,
   "id": "adf65d84",
   "metadata": {},
   "outputs": [
    {
     "name": "stdout",
     "output_type": "stream",
     "text": [
      "Requirement already satisfied: pandas in /Users/chethanats/anaconda3/lib/python3.11/site-packages (2.0.3)\n",
      "Requirement already satisfied: numpy in /Users/chethanats/anaconda3/lib/python3.11/site-packages (1.24.3)\n",
      "Requirement already satisfied: tensorflow in /Users/chethanats/anaconda3/lib/python3.11/site-packages (2.15.0)\n",
      "Requirement already satisfied: keras in /Users/chethanats/anaconda3/lib/python3.11/site-packages (2.15.0)\n",
      "Collecting sklearn\n",
      "  Using cached sklearn-0.0.post12.tar.gz (2.6 kB)\n",
      "  Preparing metadata (setup.py) ... \u001b[?25lerror\n",
      "  \u001b[1;31merror\u001b[0m: \u001b[1msubprocess-exited-with-error\u001b[0m\n",
      "  \n",
      "  \u001b[31m×\u001b[0m \u001b[32mpython setup.py egg_info\u001b[0m did not run successfully.\n",
      "  \u001b[31m│\u001b[0m exit code: \u001b[1;36m1\u001b[0m\n",
      "  \u001b[31m╰─>\u001b[0m \u001b[31m[15 lines of output]\u001b[0m\n",
      "  \u001b[31m   \u001b[0m The 'sklearn' PyPI package is deprecated, use 'scikit-learn'\n",
      "  \u001b[31m   \u001b[0m rather than 'sklearn' for pip commands.\n",
      "  \u001b[31m   \u001b[0m \n",
      "  \u001b[31m   \u001b[0m Here is how to fix this error in the main use cases:\n",
      "  \u001b[31m   \u001b[0m - use 'pip install scikit-learn' rather than 'pip install sklearn'\n",
      "  \u001b[31m   \u001b[0m - replace 'sklearn' by 'scikit-learn' in your pip requirements files\n",
      "  \u001b[31m   \u001b[0m   (requirements.txt, setup.py, setup.cfg, Pipfile, etc ...)\n",
      "  \u001b[31m   \u001b[0m - if the 'sklearn' package is used by one of your dependencies,\n",
      "  \u001b[31m   \u001b[0m   it would be great if you take some time to track which package uses\n",
      "  \u001b[31m   \u001b[0m   'sklearn' instead of 'scikit-learn' and report it to their issue tracker\n",
      "  \u001b[31m   \u001b[0m - as a last resort, set the environment variable\n",
      "  \u001b[31m   \u001b[0m   SKLEARN_ALLOW_DEPRECATED_SKLEARN_PACKAGE_INSTALL=True to avoid this error\n",
      "  \u001b[31m   \u001b[0m \n",
      "  \u001b[31m   \u001b[0m More information is available at\n",
      "  \u001b[31m   \u001b[0m https://github.com/scikit-learn/sklearn-pypi-package\n",
      "  \u001b[31m   \u001b[0m \u001b[31m[end of output]\u001b[0m\n",
      "  \n",
      "  \u001b[1;35mnote\u001b[0m: This error originates from a subprocess, and is likely not a problem with pip.\n",
      "\u001b[1;31merror\u001b[0m: \u001b[1mmetadata-generation-failed\u001b[0m\n",
      "\n",
      "\u001b[31m×\u001b[0m Encountered error while generating package metadata.\n",
      "\u001b[31m╰─>\u001b[0m See above for output.\n",
      "\n",
      "\u001b[1;35mnote\u001b[0m: This is an issue with the package mentioned above, not pip.\n",
      "\u001b[1;36mhint\u001b[0m: See above for details.\n",
      "\u001b[?25h"
     ]
    }
   ],
   "source": [
    "!pip install pandas numpy tensorflow keras sklearn matplotlib"
   ]
  },
  {
   "cell_type": "code",
   "execution_count": 15,
   "id": "b0952ac1",
   "metadata": {},
   "outputs": [],
   "source": [
    "import pandas as pd\n",
    "\n",
    "train = pd.read_csv('../Deep-Learning-project/dataset/training.csv')\n",
    "test = pd.read_csv('../Deep-Learning-project/dataset/test.csv')\n",
    "validation = pd.read_csv('../Deep-Learning-project/dataset/validation.csv')"
   ]
  },
  {
   "cell_type": "code",
   "execution_count": 16,
   "id": "5de7269a",
   "metadata": {},
   "outputs": [
    {
     "name": "stdout",
     "output_type": "stream",
     "text": [
      "Requirement already satisfied: nltk in /Users/chethanats/anaconda3/lib/python3.11/site-packages (3.8.1)\n",
      "Requirement already satisfied: click in /Users/chethanats/anaconda3/lib/python3.11/site-packages (from nltk) (8.0.4)\n",
      "Requirement already satisfied: joblib in /Users/chethanats/anaconda3/lib/python3.11/site-packages (from nltk) (1.2.0)\n",
      "Requirement already satisfied: regex>=2021.8.3 in /Users/chethanats/anaconda3/lib/python3.11/site-packages (from nltk) (2022.7.9)\n",
      "Requirement already satisfied: tqdm in /Users/chethanats/anaconda3/lib/python3.11/site-packages (from nltk) (4.65.0)\n"
     ]
    }
   ],
   "source": [
    "!pip install nltk"
   ]
  },
  {
   "cell_type": "code",
   "execution_count": 17,
   "id": "86652de7",
   "metadata": {},
   "outputs": [
    {
     "name": "stderr",
     "output_type": "stream",
     "text": [
      "[nltk_data] Downloading package stopwords to\n",
      "[nltk_data]     /Users/chethanats/nltk_data...\n",
      "[nltk_data]   Package stopwords is already up-to-date!\n",
      "[nltk_data] Downloading package punkt to\n",
      "[nltk_data]     /Users/chethanats/nltk_data...\n",
      "[nltk_data]   Package punkt is already up-to-date!\n"
     ]
    }
   ],
   "source": [
    "import re\n",
    "import nltk\n",
    "from nltk.corpus import stopwords\n",
    "from nltk.tokenize import word_tokenize\n",
    "from keras.preprocessing.text import Tokenizer\n",
    "from keras.utils import pad_sequences\n",
    "\n",
    "nltk.download('stopwords')\n",
    "nltk.download('punkt')\n",
    "\n",
    "def preprocess_text(text):\n",
    "    text = text.lower()  # convert to lowercase\n",
    "    text = re.sub(r'\\d+', '', text)  # remove numbers\n",
    "    text = re.sub(r'[^\\w\\s]', '', text)  # remove punctuation\n",
    "    tokenized = word_tokenize(text)  # tokenize text\n",
    "    cleaned_text = [word for word in tokenized if word not in stopwords.words('english')]  # remove stopwords\n",
    "    return \" \".join(cleaned_text)"
   ]
  },
  {
   "cell_type": "code",
   "execution_count": 18,
   "id": "38e621a2",
   "metadata": {},
   "outputs": [],
   "source": [
    "# Assuming the preprocessing function is defined above\n",
    "train['cleaned_text'] = train['text'].apply(preprocess_text)\n",
    "test['cleaned_text'] = test['text'].apply(preprocess_text)\n",
    "validation['cleaned_text'] = validation['text'].apply(preprocess_text)\n",
    "\n",
    "labels_dict = {0:'sad', 1:'happy', 2:'love', 3:'anger', 4:'fear', 5:'surprise'}\n",
    "train['emotion'] = train['label'].map(labels_dict)\n",
    "test['emotion'] = test['label'].map(labels_dict)\n",
    "validation['emotion'] = validation['label'].map(labels_dict)\n",
    "\n",
    "# Tokenize text\n",
    "tokenizer = Tokenizer()\n",
    "tokenizer.fit_on_texts(train['cleaned_text'])\n",
    "\n",
    "X_train = tokenizer.texts_to_sequences(train['cleaned_text'])\n",
    "X_test = tokenizer.texts_to_sequences(test['cleaned_text'])\n",
    "X_val = tokenizer.texts_to_sequences(validation['cleaned_text'])\n",
    "\n",
    "# Pad sequences\n",
    "max_length = max(max(len(x) for x in X_train), max(len(x) for x in X_test), max(len(x) for x in X_val))\n",
    "X_train = pad_sequences(X_train, maxlen=max_length, padding='post')\n",
    "X_test = pad_sequences(X_test, maxlen=max_length, padding='post')\n",
    "X_val = pad_sequences(X_val, maxlen=max_length, padding='post')\n",
    "\n",
    "# Encode labels\n",
    "from sklearn.preprocessing import LabelEncoder\n",
    "\n",
    "encoder = LabelEncoder()\n",
    "encoder.fit(train['emotion'])\n",
    "\n",
    "y_train = encoder.transform(train['emotion'])\n",
    "y_test = encoder.transform(test['emotion'])\n",
    "y_val = encoder.transform(validation['emotion'])"
   ]
  },
  {
   "cell_type": "code",
   "execution_count": 6,
   "id": "57dfb990",
   "metadata": {},
   "outputs": [
    {
     "data": {
      "text/html": [
       "<div>\n",
       "<style scoped>\n",
       "    .dataframe tbody tr th:only-of-type {\n",
       "        vertical-align: middle;\n",
       "    }\n",
       "\n",
       "    .dataframe tbody tr th {\n",
       "        vertical-align: top;\n",
       "    }\n",
       "\n",
       "    .dataframe thead th {\n",
       "        text-align: right;\n",
       "    }\n",
       "</style>\n",
       "<table border=\"1\" class=\"dataframe\">\n",
       "  <thead>\n",
       "    <tr style=\"text-align: right;\">\n",
       "      <th></th>\n",
       "      <th>text</th>\n",
       "      <th>label</th>\n",
       "      <th>cleaned_text</th>\n",
       "      <th>emotion</th>\n",
       "    </tr>\n",
       "  </thead>\n",
       "  <tbody>\n",
       "    <tr>\n",
       "      <th>0</th>\n",
       "      <td>im feeling rather rotten so im not very ambiti...</td>\n",
       "      <td>0</td>\n",
       "      <td>im feeling rather rotten im ambitious right</td>\n",
       "      <td>sad</td>\n",
       "    </tr>\n",
       "    <tr>\n",
       "      <th>1</th>\n",
       "      <td>im updating my blog because i feel shitty</td>\n",
       "      <td>0</td>\n",
       "      <td>im updating blog feel shitty</td>\n",
       "      <td>sad</td>\n",
       "    </tr>\n",
       "    <tr>\n",
       "      <th>2</th>\n",
       "      <td>i never make her separate from me because i do...</td>\n",
       "      <td>0</td>\n",
       "      <td>never make separate ever want feel like ashamed</td>\n",
       "      <td>sad</td>\n",
       "    </tr>\n",
       "    <tr>\n",
       "      <th>3</th>\n",
       "      <td>i left with my bouquet of red and yellow tulip...</td>\n",
       "      <td>1</td>\n",
       "      <td>left bouquet red yellow tulips arm feeling sli...</td>\n",
       "      <td>happy</td>\n",
       "    </tr>\n",
       "    <tr>\n",
       "      <th>4</th>\n",
       "      <td>i was feeling a little vain when i did this one</td>\n",
       "      <td>0</td>\n",
       "      <td>feeling little vain one</td>\n",
       "      <td>sad</td>\n",
       "    </tr>\n",
       "  </tbody>\n",
       "</table>\n",
       "</div>"
      ],
      "text/plain": [
       "                                                text  label  \\\n",
       "0  im feeling rather rotten so im not very ambiti...      0   \n",
       "1          im updating my blog because i feel shitty      0   \n",
       "2  i never make her separate from me because i do...      0   \n",
       "3  i left with my bouquet of red and yellow tulip...      1   \n",
       "4    i was feeling a little vain when i did this one      0   \n",
       "\n",
       "                                        cleaned_text emotion  \n",
       "0        im feeling rather rotten im ambitious right     sad  \n",
       "1                       im updating blog feel shitty     sad  \n",
       "2    never make separate ever want feel like ashamed     sad  \n",
       "3  left bouquet red yellow tulips arm feeling sli...   happy  \n",
       "4                            feeling little vain one     sad  "
      ]
     },
     "execution_count": 6,
     "metadata": {},
     "output_type": "execute_result"
    }
   ],
   "source": [
    "test.head()"
   ]
  },
  {
   "cell_type": "code",
   "execution_count": 19,
   "id": "ee50095e",
   "metadata": {},
   "outputs": [],
   "source": [
    "from tensorflow.keras.models import Sequential\n",
    "from tensorflow.keras.layers import Embedding, SimpleRNN, Dense\n",
    "\n",
    "vocab_size = len(tokenizer.word_index) + 1  # Plus 1 for padding\n",
    "\n",
    "model = Sequential()\n",
    "model.add(Embedding(vocab_size, 100, input_length=max_length))\n",
    "model.add(SimpleRNN(256, return_sequences=False))\n",
    "model.add(Dense(6, activation='softmax'))  # 6 for the number of emotion categories\n",
    "\n",
    "model.compile(loss='sparse_categorical_crossentropy', optimizer='adam', metrics=['accuracy'])"
   ]
  },
  {
   "cell_type": "code",
   "execution_count": 20,
   "id": "edc4cbbc",
   "metadata": {},
   "outputs": [
    {
     "name": "stdout",
     "output_type": "stream",
     "text": [
      "Epoch 1/10\n",
      "125/125 [==============================] - 6s 46ms/step - loss: 1.4875 - accuracy: 0.4140 - val_loss: 1.2116 - val_accuracy: 0.5630\n",
      "Epoch 2/10\n",
      "125/125 [==============================] - 6s 48ms/step - loss: 1.0147 - accuracy: 0.6436 - val_loss: 0.8824 - val_accuracy: 0.6980\n",
      "Epoch 3/10\n",
      "125/125 [==============================] - 6s 46ms/step - loss: 0.6766 - accuracy: 0.7628 - val_loss: 0.7651 - val_accuracy: 0.7480\n",
      "Epoch 4/10\n",
      "125/125 [==============================] - 6s 49ms/step - loss: 0.4665 - accuracy: 0.8409 - val_loss: 0.8036 - val_accuracy: 0.7485\n",
      "Epoch 5/10\n",
      "125/125 [==============================] - 6s 46ms/step - loss: 0.3558 - accuracy: 0.8832 - val_loss: 0.6910 - val_accuracy: 0.7760\n",
      "Epoch 6/10\n",
      "125/125 [==============================] - 6s 45ms/step - loss: 0.2917 - accuracy: 0.9039 - val_loss: 0.8393 - val_accuracy: 0.7660\n",
      "Epoch 7/10\n",
      "125/125 [==============================] - 6s 49ms/step - loss: 0.2301 - accuracy: 0.9249 - val_loss: 0.8247 - val_accuracy: 0.7735\n",
      "Epoch 8/10\n",
      "125/125 [==============================] - 6s 47ms/step - loss: 0.1758 - accuracy: 0.9438 - val_loss: 0.8335 - val_accuracy: 0.7720\n",
      "Epoch 9/10\n",
      "125/125 [==============================] - 6s 49ms/step - loss: 0.1453 - accuracy: 0.9543 - val_loss: 0.8214 - val_accuracy: 0.8005\n",
      "Epoch 10/10\n",
      "125/125 [==============================] - 6s 50ms/step - loss: 0.1171 - accuracy: 0.9616 - val_loss: 0.8479 - val_accuracy: 0.7860\n"
     ]
    }
   ],
   "source": [
    "history = model.fit(X_train, y_train, validation_data=(X_val, y_val), epochs=10, batch_size=128)"
   ]
  },
  {
   "cell_type": "code",
   "execution_count": 21,
   "id": "a79f4a2a",
   "metadata": {},
   "outputs": [
    {
     "name": "stdout",
     "output_type": "stream",
     "text": [
      "Requirement already satisfied: pydot in /Users/chethanats/anaconda3/lib/python3.11/site-packages (2.0.0)\n",
      "Requirement already satisfied: pyparsing>=3 in /Users/chethanats/anaconda3/lib/python3.11/site-packages (from pydot) (3.0.9)\n",
      "Requirement already satisfied: graphviz in /Users/chethanats/anaconda3/lib/python3.11/site-packages (0.20.3)\n"
     ]
    }
   ],
   "source": [
    "!pip install pydot\n",
    "!pip install graphviz"
   ]
  },
  {
   "cell_type": "code",
   "execution_count": 10,
   "id": "472ae1ec",
   "metadata": {},
   "outputs": [
    {
     "data": {
      "image/png": "[encoded data removed]",
      "text/plain": [
       "<IPython.core.display.Image object>"
      ]
     },
     "execution_count": 10,
     "metadata": {},
     "output_type": "execute_result"
    }
   ],
   "source": [
    "from tensorflow.keras.utils import plot_model\n",
    "\n",
    "plot_model(model, to_file='model_architecture.png', show_shapes=True)"
   ]
  },
  {
   "cell_type": "code",
   "execution_count": 22,
   "id": "242260f7",
   "metadata": {},
   "outputs": [
    {
     "name": "stdout",
     "output_type": "stream",
     "text": [
      "Epoch 1: Loss = 1.4874602556228638, Accuracy = 0.414000004529953\n",
      "Epoch 2: Loss = 1.0147323608398438, Accuracy = 0.643625020980835\n",
      "Epoch 3: Loss = 0.6766005158424377, Accuracy = 0.7628124952316284\n",
      "Epoch 4: Loss = 0.46649983525276184, Accuracy = 0.8408750295639038\n",
      "Epoch 5: Loss = 0.3557610511779785, Accuracy = 0.883187472820282\n",
      "Epoch 6: Loss = 0.2916647791862488, Accuracy = 0.9038749933242798\n",
      "Epoch 7: Loss = 0.23005402088165283, Accuracy = 0.924875020980835\n",
      "Epoch 8: Loss = 0.1758185774087906, Accuracy = 0.9438124895095825\n",
      "Epoch 9: Loss = 0.1453424096107483, Accuracy = 0.9543125033378601\n",
      "Epoch 10: Loss = 0.11713121831417084, Accuracy = 0.9616249799728394\n"
     ]
    }
   ],
   "source": [
    "for epoch, (loss, acc) in enumerate(zip(history.history['loss'], history.history['accuracy'])):\n",
    "    print(f'Epoch {epoch+1}: Loss = {loss}, Accuracy = {acc}')"
   ]
  },
  {
   "cell_type": "code",
   "execution_count": 23,
   "id": "948f3c45",
   "metadata": {},
   "outputs": [
    {
     "data": {
      "image/png": "[encoded data removed]",
      "text/plain": [
       "<Figure size 640x480 with 1 Axes>"
      ]
     },
     "metadata": {},
     "output_type": "display_data"
    },
    {
     "data": {
      "image/png": "[encoded data removed]",
      "text/plain": [
       "<Figure size 640x480 with 1 Axes>"
      ]
     },
     "metadata": {},
     "output_type": "display_data"
    }
   ],
   "source": [
    "import matplotlib.pyplot as plt\n",
    "\n",
    "plt.plot(history.history['accuracy'], label='Training Accuracy')\n",
    "plt.plot(history.history['val_accuracy'], label='Validation Accuracy')\n",
    "plt.title('Training and Validation Accuracy')\n",
    "plt.legend()\n",
    "plt.show()\n",
    "\n",
    "plt.plot(history.history['loss'], label='Training Loss')\n",
    "plt.plot(history.history['val_loss'], label='Validation Loss')\n",
    "plt.title('Training and Validation Loss')\n",
    "plt.legend()\n",
    "plt.show()"
   ]
  },
  {
   "cell_type": "code",
   "execution_count": 27,
   "id": "4e252199",
   "metadata": {},
   "outputs": [
    {
     "name": "stdout",
     "output_type": "stream",
     "text": [
      "Enter some sentence:i love deep learning\n",
      "1/1 [==============================] - 0s 15ms/step\n"
     ]
    },
    {
     "data": {
      "text/plain": [
       "'sad'"
      ]
     },
     "execution_count": 27,
     "metadata": {},
     "output_type": "execute_result"
    }
   ],
   "source": [
    "def predict_emotion(text):\n",
    "    # Preprocess and tokenize the input text\n",
    "    seq = tokenizer.texts_to_sequences([preprocess_text(text)])\n",
    "    # Pad the sequence\n",
    "    padded_seq = pad_sequences(seq, maxlen=max_length, padding='post')\n",
    "    # Perform the prediction\n",
    "    prediction = model.predict(padded_seq)\n",
    "    # Decode the prediction\n",
    "    label_idx = prediction.argmax(axis=1)[0]\n",
    "    return encoder.inverse_transform([label_idx])[0]\n",
    "\n",
    "# Example usage\n",
    "input_text = input(\"Enter some sentence:\")\n",
    "predict_emotion(input_text)\n"
   ]
  },
  {
   "cell_type": "code",
   "execution_count": 14,
   "id": "cf9eed71",
   "metadata": {},
   "outputs": [
    {
     "name": "stdout",
     "output_type": "stream",
     "text": [
      "63/63 [==============================] - 1s 12ms/step\n",
      "0.664\n",
      "              precision    recall  f1-score   support\n",
      "\n",
      "           0       0.68      0.64      0.66       275\n",
      "           1       0.43      0.52      0.47       212\n",
      "           2       0.84      0.68      0.75       704\n",
      "           3       0.61      0.57      0.59       178\n",
      "           4       0.69      0.80      0.74       550\n",
      "           5       0.23      0.32      0.27        81\n",
      "\n",
      "    accuracy                           0.66      2000\n",
      "   macro avg       0.58      0.59      0.58      2000\n",
      "weighted avg       0.69      0.66      0.67      2000\n",
      "\n"
     ]
    }
   ],
   "source": [
    "from sklearn.metrics import accuracy_score, classification_report\n",
    "import numpy as np\n",
    "\n",
    "# Predict probabilities for the validation set\n",
    "probabilities = model.predict(X_val)\n",
    "# Convert probabilities to class labels\n",
    "predictions = np.argmax(probabilities, axis=1)\n",
    "\n",
    "print(accuracy_score(y_val, predictions))\n",
    "print(classification_report(y_val, predictions))\n"
   ]
  },
  {
   "cell_type": "code",
   "execution_count": 15,
   "id": "07e6e8af",
   "metadata": {},
   "outputs": [
    {
     "name": "stdout",
     "output_type": "stream",
     "text": [
      "63/63 [==============================] - 0s 6ms/step\n",
      "Test Accuracy: 65.9\n",
      "Classification Report on Test Data:\n",
      "               precision    recall  f1-score   support\n",
      "\n",
      "           0       0.69      0.65      0.67       275\n",
      "           1       0.50      0.60      0.55       224\n",
      "           2       0.79      0.65      0.71       695\n",
      "           3       0.50      0.57      0.53       159\n",
      "           4       0.74      0.76      0.75       581\n",
      "           5       0.17      0.29      0.21        66\n",
      "\n",
      "    accuracy                           0.66      2000\n",
      "   macro avg       0.56      0.59      0.57      2000\n",
      "weighted avg       0.68      0.66      0.67      2000\n",
      "\n"
     ]
    }
   ],
   "source": [
    "# Tokenize the test text data\n",
    "X_test = tokenizer.texts_to_sequences(test['cleaned_text'])\n",
    "X_test = pad_sequences(X_test, maxlen=max_length, padding='post')\n",
    "\n",
    "# Encode the labels if they are categorical\n",
    "y_test = encoder.transform(test['emotion'])\n",
    "\n",
    "# Predict probabilities for the test set\n",
    "probabilities = model.predict(X_test)\n",
    "# Convert probabilities to class labels\n",
    "predictions = np.argmax(probabilities, axis=1)\n",
    "\n",
    "# Evaluate the performance of the RNN model on the test set\n",
    "test_accuracy = accuracy_score(y_test, predictions)*100\n",
    "test_report = classification_report(y_test, predictions)\n",
    "\n",
    "print(\"Test Accuracy:\", test_accuracy)\n",
    "print(\"Classification Report on Test Data:\\n\", test_report)\n"
   ]
  },
  {
   "cell_type": "code",
   "execution_count": null,
   "id": "370b1ca8",
   "metadata": {},
   "outputs": [],
   "source": []
  }
 ],
 "metadata": {
  "kernelspec": {
   "display_name": "Python 3 (ipykernel)",
   "language": "python",
   "name": "python3"
  },
  "language_info": {
   "codemirror_mode": {
    "name": "ipython",
    "version": 3
   },
   "file_extension": ".py",
   "mimetype": "text/x-python",
   "name": "python",
   "nbconvert_exporter": "python",
   "pygments_lexer": "ipython3",
   "version": "3.11.5"
  }
 },
 "nbformat": 4,
 "nbformat_minor": 5
}
