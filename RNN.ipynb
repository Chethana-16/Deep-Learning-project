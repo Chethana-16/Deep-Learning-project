{
 "cells": [
  {
   "cell_type": "code",
   "execution_count": 1,
   "id": "adf65d84",
   "metadata": {},
   "outputs": [
    {
     "name": "stdout",
     "output_type": "stream",
     "text": [
      "Requirement already satisfied: pandas in /Users/chethanats/anaconda3/lib/python3.11/site-packages (2.0.3)\n",
      "Requirement already satisfied: numpy in /Users/chethanats/anaconda3/lib/python3.11/site-packages (1.24.3)\n",
      "Requirement already satisfied: tensorflow in /Users/chethanats/anaconda3/lib/python3.11/site-packages (2.15.0)\n",
      "Requirement already satisfied: keras in /Users/chethanats/anaconda3/lib/python3.11/site-packages (2.15.0)\n",
      "Collecting sklearn\n",
      "  Using cached sklearn-0.0.post12.tar.gz (2.6 kB)\n",
      "  Preparing metadata (setup.py) ... \u001b[?25lerror\n",
      "  \u001b[1;31merror\u001b[0m: \u001b[1msubprocess-exited-with-error\u001b[0m\n",
      "  \n",
      "  \u001b[31m×\u001b[0m \u001b[32mpython setup.py egg_info\u001b[0m did not run successfully.\n",
      "  \u001b[31m│\u001b[0m exit code: \u001b[1;36m1\u001b[0m\n",
      "  \u001b[31m╰─>\u001b[0m \u001b[31m[15 lines of output]\u001b[0m\n",
      "  \u001b[31m   \u001b[0m The 'sklearn' PyPI package is deprecated, use 'scikit-learn'\n",
      "  \u001b[31m   \u001b[0m rather than 'sklearn' for pip commands.\n",
      "  \u001b[31m   \u001b[0m \n",
      "  \u001b[31m   \u001b[0m Here is how to fix this error in the main use cases:\n",
      "  \u001b[31m   \u001b[0m - use 'pip install scikit-learn' rather than 'pip install sklearn'\n",
      "  \u001b[31m   \u001b[0m - replace 'sklearn' by 'scikit-learn' in your pip requirements files\n",
      "  \u001b[31m   \u001b[0m   (requirements.txt, setup.py, setup.cfg, Pipfile, etc ...)\n",
      "  \u001b[31m   \u001b[0m - if the 'sklearn' package is used by one of your dependencies,\n",
      "  \u001b[31m   \u001b[0m   it would be great if you take some time to track which package uses\n",
      "  \u001b[31m   \u001b[0m   'sklearn' instead of 'scikit-learn' and report it to their issue tracker\n",
      "  \u001b[31m   \u001b[0m - as a last resort, set the environment variable\n",
      "  \u001b[31m   \u001b[0m   SKLEARN_ALLOW_DEPRECATED_SKLEARN_PACKAGE_INSTALL=True to avoid this error\n",
      "  \u001b[31m   \u001b[0m \n",
      "  \u001b[31m   \u001b[0m More information is available at\n",
      "  \u001b[31m   \u001b[0m https://github.com/scikit-learn/sklearn-pypi-package\n",
      "  \u001b[31m   \u001b[0m \u001b[31m[end of output]\u001b[0m\n",
      "  \n",
      "  \u001b[1;35mnote\u001b[0m: This error originates from a subprocess, and is likely not a problem with pip.\n",
      "\u001b[1;31merror\u001b[0m: \u001b[1mmetadata-generation-failed\u001b[0m\n",
      "\n",
      "\u001b[31m×\u001b[0m Encountered error while generating package metadata.\n",
      "\u001b[31m╰─>\u001b[0m See above for output.\n",
      "\n",
      "\u001b[1;35mnote\u001b[0m: This is an issue with the package mentioned above, not pip.\n",
      "\u001b[1;36mhint\u001b[0m: See above for details.\n",
      "\u001b[?25h"
     ]
    }
   ],
   "source": [
    "!pip install pandas numpy tensorflow keras sklearn matplotlib"
   ]
  },
  {
   "cell_type": "code",
   "execution_count": 2,
   "id": "b0952ac1",
   "metadata": {},
   "outputs": [],
   "source": [
    "import pandas as pd\n",
    "\n",
    "train = pd.read_csv('../Deep-Learning-project/dataset/training.csv')\n",
    "test = pd.read_csv('../Deep-Learning-project/dataset/test.csv')\n",
    "validation = pd.read_csv('../Deep-Learning-project/dataset/validation.csv')"
   ]
  },
  {
   "cell_type": "code",
   "execution_count": 3,
   "id": "5de7269a",
   "metadata": {},
   "outputs": [
    {
     "name": "stdout",
     "output_type": "stream",
     "text": [
      "Requirement already satisfied: nltk in /Users/chethanats/anaconda3/lib/python3.11/site-packages (3.8.1)\n",
      "Requirement already satisfied: click in /Users/chethanats/anaconda3/lib/python3.11/site-packages (from nltk) (8.0.4)\n",
      "Requirement already satisfied: joblib in /Users/chethanats/anaconda3/lib/python3.11/site-packages (from nltk) (1.2.0)\n",
      "Requirement already satisfied: regex>=2021.8.3 in /Users/chethanats/anaconda3/lib/python3.11/site-packages (from nltk) (2022.7.9)\n",
      "Requirement already satisfied: tqdm in /Users/chethanats/anaconda3/lib/python3.11/site-packages (from nltk) (4.65.0)\n"
     ]
    }
   ],
   "source": [
    "!pip install nltk"
   ]
  },
  {
   "cell_type": "code",
   "execution_count": 4,
   "id": "86652de7",
   "metadata": {},
   "outputs": [
    {
     "name": "stderr",
     "output_type": "stream",
     "text": [
      "[nltk_data] Downloading package stopwords to\n",
      "[nltk_data]     /Users/chethanats/nltk_data...\n",
      "[nltk_data]   Package stopwords is already up-to-date!\n",
      "[nltk_data] Downloading package punkt to\n",
      "[nltk_data]     /Users/chethanats/nltk_data...\n",
      "[nltk_data]   Package punkt is already up-to-date!\n"
     ]
    }
   ],
   "source": [
    "import re\n",
    "import nltk\n",
    "from nltk.corpus import stopwords\n",
    "from nltk.tokenize import word_tokenize\n",
    "from keras.preprocessing.text import Tokenizer\n",
    "from keras.preprocessing.sequence import pad_sequences\n",
    "\n",
    "nltk.download('stopwords')\n",
    "nltk.download('punkt')\n",
    "\n",
    "def preprocess_text(text):\n",
    "    text = text.lower()  # convert to lowercase\n",
    "    text = re.sub(r'\\d+', '', text)  # remove numbers\n",
    "    text = re.sub(r'[^\\w\\s]', '', text)  # remove punctuation\n",
    "    tokenized = word_tokenize(text)  # tokenize text\n",
    "    cleaned_text = [word for word in tokenized if word not in stopwords.words('english')]  # remove stopwords\n",
    "    return \" \".join(cleaned_text)"
   ]
  },
  {
   "cell_type": "code",
   "execution_count": 5,
   "id": "38e621a2",
   "metadata": {},
   "outputs": [],
   "source": [
    "# Assuming the preprocessing function is defined above\n",
    "train['cleaned_text'] = train['text'].apply(preprocess_text)\n",
    "test['cleaned_text'] = test['text'].apply(preprocess_text)\n",
    "validation['cleaned_text'] = validation['text'].apply(preprocess_text)\n",
    "\n",
    "labels_dict = {0:'sad', 1:'happy', 2:'love', 3:'anger', 4:'fear', 5:'surprise'}\n",
    "train['emotion'] = train['label'].map(labels_dict)\n",
    "test['emotion'] = test['label'].map(labels_dict)\n",
    "validation['emotion'] = validation['label'].map(labels_dict)\n",
    "\n",
    "# Tokenize text\n",
    "tokenizer = Tokenizer()\n",
    "tokenizer.fit_on_texts(train['cleaned_text'])\n",
    "\n",
    "X_train = tokenizer.texts_to_sequences(train['cleaned_text'])\n",
    "X_test = tokenizer.texts_to_sequences(test['cleaned_text'])\n",
    "X_val = tokenizer.texts_to_sequences(validation['cleaned_text'])\n",
    "\n",
    "# Pad sequences\n",
    "max_length = max(max(len(x) for x in X_train), max(len(x) for x in X_test), max(len(x) for x in X_val))\n",
    "X_train = pad_sequences(X_train, maxlen=max_length, padding='post')\n",
    "X_test = pad_sequences(X_test, maxlen=max_length, padding='post')\n",
    "X_val = pad_sequences(X_val, maxlen=max_length, padding='post')\n",
    "\n",
    "# Encode labels\n",
    "from sklearn.preprocessing import LabelEncoder\n",
    "\n",
    "encoder = LabelEncoder()\n",
    "encoder.fit(train['emotion'])\n",
    "\n",
    "y_train = encoder.transform(train['emotion'])\n",
    "y_test = encoder.transform(test['emotion'])\n",
    "y_val = encoder.transform(validation['emotion'])"
   ]
  },
  {
   "cell_type": "code",
   "execution_count": 6,
   "id": "57dfb990",
   "metadata": {},
   "outputs": [
    {
     "data": {
      "text/html": [
       "<div>\n",
       "<style scoped>\n",
       "    .dataframe tbody tr th:only-of-type {\n",
       "        vertical-align: middle;\n",
       "    }\n",
       "\n",
       "    .dataframe tbody tr th {\n",
       "        vertical-align: top;\n",
       "    }\n",
       "\n",
       "    .dataframe thead th {\n",
       "        text-align: right;\n",
       "    }\n",
       "</style>\n",
       "<table border=\"1\" class=\"dataframe\">\n",
       "  <thead>\n",
       "    <tr style=\"text-align: right;\">\n",
       "      <th></th>\n",
       "      <th>text</th>\n",
       "      <th>label</th>\n",
       "      <th>cleaned_text</th>\n",
       "      <th>emotion</th>\n",
       "    </tr>\n",
       "  </thead>\n",
       "  <tbody>\n",
       "    <tr>\n",
       "      <th>0</th>\n",
       "      <td>im feeling rather rotten so im not very ambiti...</td>\n",
       "      <td>0</td>\n",
       "      <td>im feeling rather rotten im ambitious right</td>\n",
       "      <td>sad</td>\n",
       "    </tr>\n",
       "    <tr>\n",
       "      <th>1</th>\n",
       "      <td>im updating my blog because i feel shitty</td>\n",
       "      <td>0</td>\n",
       "      <td>im updating blog feel shitty</td>\n",
       "      <td>sad</td>\n",
       "    </tr>\n",
       "    <tr>\n",
       "      <th>2</th>\n",
       "      <td>i never make her separate from me because i do...</td>\n",
       "      <td>0</td>\n",
       "      <td>never make separate ever want feel like ashamed</td>\n",
       "      <td>sad</td>\n",
       "    </tr>\n",
       "    <tr>\n",
       "      <th>3</th>\n",
       "      <td>i left with my bouquet of red and yellow tulip...</td>\n",
       "      <td>1</td>\n",
       "      <td>left bouquet red yellow tulips arm feeling sli...</td>\n",
       "      <td>happy</td>\n",
       "    </tr>\n",
       "    <tr>\n",
       "      <th>4</th>\n",
       "      <td>i was feeling a little vain when i did this one</td>\n",
       "      <td>0</td>\n",
       "      <td>feeling little vain one</td>\n",
       "      <td>sad</td>\n",
       "    </tr>\n",
       "  </tbody>\n",
       "</table>\n",
       "</div>"
      ],
      "text/plain": [
       "                                                text  label  \\\n",
       "0  im feeling rather rotten so im not very ambiti...      0   \n",
       "1          im updating my blog because i feel shitty      0   \n",
       "2  i never make her separate from me because i do...      0   \n",
       "3  i left with my bouquet of red and yellow tulip...      1   \n",
       "4    i was feeling a little vain when i did this one      0   \n",
       "\n",
       "                                        cleaned_text emotion  \n",
       "0        im feeling rather rotten im ambitious right     sad  \n",
       "1                       im updating blog feel shitty     sad  \n",
       "2    never make separate ever want feel like ashamed     sad  \n",
       "3  left bouquet red yellow tulips arm feeling sli...   happy  \n",
       "4                            feeling little vain one     sad  "
      ]
     },
     "execution_count": 6,
     "metadata": {},
     "output_type": "execute_result"
    }
   ],
   "source": [
    "test.head()"
   ]
  },
  {
   "cell_type": "code",
   "execution_count": 7,
   "id": "ee50095e",
   "metadata": {},
   "outputs": [],
   "source": [
    "from tensorflow.keras.models import Sequential\n",
    "from tensorflow.keras.layers import Embedding, SimpleRNN, Dense\n",
    "\n",
    "vocab_size = len(tokenizer.word_index) + 1  # Plus 1 for padding\n",
    "\n",
    "model = Sequential()\n",
    "model.add(Embedding(vocab_size, 100, input_length=max_length))\n",
    "model.add(SimpleRNN(256, return_sequences=False))\n",
    "model.add(Dense(6, activation='softmax'))  # 6 for the number of emotion categories\n",
    "\n",
    "model.compile(loss='sparse_categorical_crossentropy', optimizer='adam', metrics=['accuracy'])"
   ]
  },
  {
   "cell_type": "code",
   "execution_count": 8,
   "id": "edc4cbbc",
   "metadata": {},
   "outputs": [
    {
     "name": "stdout",
     "output_type": "stream",
     "text": [
      "Epoch 1/10\n",
      "125/125 [==============================] - 6s 43ms/step - loss: 1.3959 - accuracy: 0.4647 - val_loss: 1.1952 - val_accuracy: 0.6050\n",
      "Epoch 2/10\n",
      "125/125 [==============================] - 6s 48ms/step - loss: 0.8564 - accuracy: 0.6910 - val_loss: 0.8129 - val_accuracy: 0.7300\n",
      "Epoch 3/10\n",
      "125/125 [==============================] - 6s 45ms/step - loss: 0.5722 - accuracy: 0.8110 - val_loss: 0.8303 - val_accuracy: 0.7340\n",
      "Epoch 4/10\n",
      "125/125 [==============================] - 6s 46ms/step - loss: 0.3947 - accuracy: 0.8734 - val_loss: 0.9052 - val_accuracy: 0.7495\n",
      "Epoch 5/10\n",
      "125/125 [==============================] - 6s 50ms/step - loss: 0.2739 - accuracy: 0.9118 - val_loss: 0.8943 - val_accuracy: 0.7490\n",
      "Epoch 6/10\n",
      "125/125 [==============================] - 6s 50ms/step - loss: 0.1892 - accuracy: 0.9401 - val_loss: 0.8628 - val_accuracy: 0.7780\n",
      "Epoch 7/10\n",
      "125/125 [==============================] - 6s 50ms/step - loss: 0.1602 - accuracy: 0.9501 - val_loss: 0.8769 - val_accuracy: 0.7640\n",
      "Epoch 8/10\n",
      "125/125 [==============================] - 6s 48ms/step - loss: 0.1558 - accuracy: 0.9509 - val_loss: 0.9672 - val_accuracy: 0.7715\n",
      "Epoch 9/10\n",
      "125/125 [==============================] - 6s 50ms/step - loss: 0.1194 - accuracy: 0.9620 - val_loss: 1.0598 - val_accuracy: 0.7630\n",
      "Epoch 10/10\n",
      "125/125 [==============================] - 6s 51ms/step - loss: 0.1060 - accuracy: 0.9686 - val_loss: 1.0193 - val_accuracy: 0.7700\n"
     ]
    }
   ],
   "source": [
    "history = model.fit(X_train, y_train, validation_data=(X_val, y_val), epochs=10, batch_size=128)"
   ]
  },
  {
   "cell_type": "code",
   "execution_count": 16,
   "id": "a79f4a2a",
   "metadata": {},
   "outputs": [
    {
     "name": "stdout",
     "output_type": "stream",
     "text": [
      "Requirement already satisfied: pydot in /Users/chethanats/anaconda3/lib/python3.11/site-packages (2.0.0)\r\n",
      "Requirement already satisfied: pyparsing>=3 in /Users/chethanats/anaconda3/lib/python3.11/site-packages (from pydot) (3.0.9)\r\n"
     ]
    }
   ],
   "source": [
    "!pip install pydot"
   ]
  },
  {
   "cell_type": "code",
   "execution_count": 17,
   "id": "472ae1ec",
   "metadata": {},
   "outputs": [
    {
     "name": "stdout",
     "output_type": "stream",
     "text": [
      "You must install pydot (`pip install pydot`) and install graphviz (see instructions at https://graphviz.gitlab.io/download/) for plot_model to work.\n"
     ]
    }
   ],
   "source": [
    "from tensorflow.keras.utils import plot_model\n",
    "\n",
    "plot_model(model, to_file='model_architecture.png', show_shapes=True)"
   ]
  },
  {
   "cell_type": "code",
   "execution_count": 9,
   "id": "242260f7",
   "metadata": {},
   "outputs": [
    {
     "name": "stdout",
     "output_type": "stream",
     "text": [
      "Epoch 1: Loss = 1.395900011062622, Accuracy = 0.4647499918937683\n",
      "Epoch 2: Loss = 0.8563963174819946, Accuracy = 0.6909999847412109\n",
      "Epoch 3: Loss = 0.5722475051879883, Accuracy = 0.8109999895095825\n",
      "Epoch 4: Loss = 0.39470797777175903, Accuracy = 0.8733749985694885\n",
      "Epoch 5: Loss = 0.27388373017311096, Accuracy = 0.9117500185966492\n",
      "Epoch 6: Loss = 0.18917280435562134, Accuracy = 0.9401249885559082\n",
      "Epoch 7: Loss = 0.16016057133674622, Accuracy = 0.950124979019165\n",
      "Epoch 8: Loss = 0.15578140318393707, Accuracy = 0.9509375095367432\n",
      "Epoch 9: Loss = 0.11939352750778198, Accuracy = 0.9620000123977661\n",
      "Epoch 10: Loss = 0.10596424341201782, Accuracy = 0.9685624837875366\n"
     ]
    }
   ],
   "source": [
    "for epoch, (loss, acc) in enumerate(zip(history.history['loss'], history.history['accuracy'])):\n",
    "    print(f'Epoch {epoch+1}: Loss = {loss}, Accuracy = {acc}')"
   ]
  },
  {
   "cell_type": "code",
   "execution_count": 10,
   "id": "948f3c45",
   "metadata": {},
   "outputs": [
    {
     "data": {
      "image/png": "[encoded data removed]",
      "text/plain": [
       "<Figure size 640x480 with 1 Axes>"
      ]
     },
     "metadata": {},
     "output_type": "display_data"
    },
    {
     "data": {
      "image/png": "[encoded data removed]",
      "text/plain": [
       "<Figure size 640x480 with 1 Axes>"
      ]
     },
     "metadata": {},
     "output_type": "display_data"
    }
   ],
   "source": [
    "import matplotlib.pyplot as plt\n",
    "\n",
    "plt.plot(history.history['accuracy'], label='Training Accuracy')\n",
    "plt.plot(history.history['val_accuracy'], label='Validation Accuracy')\n",
    "plt.title('Training and Validation Accuracy')\n",
    "plt.legend()\n",
    "plt.show()\n",
    "\n",
    "plt.plot(history.history['loss'], label='Training Loss')\n",
    "plt.plot(history.history['val_loss'], label='Validation Loss')\n",
    "plt.title('Training and Validation Loss')\n",
    "plt.legend()\n",
    "plt.show()"
   ]
  },
  {
   "cell_type": "code",
   "execution_count": 12,
   "id": "4e252199",
   "metadata": {},
   "outputs": [
    {
     "name": "stdout",
     "output_type": "stream",
     "text": [
      "Enter some sentence:I am having a headache\n",
      "1/1 [==============================] - 0s 16ms/step\n"
     ]
    },
    {
     "data": {
      "text/plain": [
       "'anger'"
      ]
     },
     "execution_count": 12,
     "metadata": {},
     "output_type": "execute_result"
    }
   ],
   "source": [
    "def predict_emotion(text):\n",
    "    # Preprocess and tokenize the input text\n",
    "    seq = tokenizer.texts_to_sequences([preprocess_text(text)])\n",
    "    # Pad the sequence\n",
    "    padded_seq = pad_sequences(seq, maxlen=max_length, padding='post')\n",
    "    # Perform the prediction\n",
    "    prediction = model.predict(padded_seq)\n",
    "    # Decode the prediction\n",
    "    label_idx = prediction.argmax(axis=1)[0]\n",
    "    return encoder.inverse_transform([label_idx])[0]\n",
    "\n",
    "# Example usage\n",
    "input_text = input(\"Enter some sentence:\")\n",
    "predict_emotion(input_text)\n"
   ]
  }
 ],
 "metadata": {
  "kernelspec": {
   "display_name": "Python 3 (ipykernel)",
   "language": "python",
   "name": "python3"
  },
  "language_info": {
   "codemirror_mode": {
    "name": "ipython",
    "version": 3
   },
   "file_extension": ".py",
   "mimetype": "text/x-python",
   "name": "python",
   "nbconvert_exporter": "python",
   "pygments_lexer": "ipython3",
   "version": "3.11.5"
  }
 },
 "nbformat": 4,
 "nbformat_minor": 5
}
