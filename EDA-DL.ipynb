{
 "cells": [
  {
   "cell_type": "code",
   "execution_count": 3,
   "id": "eb892aef",
   "metadata": {},
   "outputs": [
    {
     "name": "stdout",
     "output_type": "stream",
     "text": [
      "Cloning into 'Deep-Learning-project'...\n",
      "remote: Enumerating objects: 13, done.\u001b[K\n",
      "remote: Counting objects: 100% (13/13), done.\u001b[K\n",
      "remote: Compressing objects: 100% (11/11), done.\u001b[K\n",
      "remote: Total 13 (delta 0), reused 10 (delta 0), pack-reused 0\u001b[K\n",
      "Receiving objects: 100% (13/13), 833.42 KiB | 2.02 MiB/s, done.\n"
     ]
    }
   ],
   "source": [
    "!git clone https://github.com/Chethana-16/Deep-Learning-project.git"
   ]
  },
  {
   "cell_type": "markdown",
   "id": "461c3afb",
   "metadata": {},
   "source": [
    "# EDA\n",
    "We will take many steps to prepare for a K-Nearest Neighbors (KNN) classifier and do exploratory data analysis (EDA) using Python for a dataset including emotive text data. The procedures involve data inspection, label distribution analysis, word frequency visualization, and text analysis utilizing natural language processing (NLP) methods. An organized method to accomplish this is as follows:"
   ]
  },
  {
   "cell_type": "markdown",
   "id": "86fd95d2",
   "metadata": {},
   "source": [
    "# 1. Load and Inspect Data\n",
    "First, ensure the data is loaded correctly and understand its basic structure."
   ]
  },
  {
   "cell_type": "code",
   "execution_count": 2,
   "id": "f06cc336",
   "metadata": {},
   "outputs": [
    {
     "name": "stdout",
     "output_type": "stream",
     "text": [
      "                                                text  label\n",
      "0                            i didnt feel humiliated      0\n",
      "1  i can go from feeling so hopeless to so damned...      0\n",
      "2   im grabbing a minute to post i feel greedy wrong      3\n",
      "3  i am ever feeling nostalgic about the fireplac...      2\n",
      "4                               i am feeling grouchy      3\n",
      "<class 'pandas.core.frame.DataFrame'>\n",
      "RangeIndex: 16000 entries, 0 to 15999\n",
      "Data columns (total 2 columns):\n",
      " #   Column  Non-Null Count  Dtype \n",
      "---  ------  --------------  ----- \n",
      " 0   text    16000 non-null  object\n",
      " 1   label   16000 non-null  int64 \n",
      "dtypes: int64(1), object(1)\n",
      "memory usage: 250.1+ KB\n",
      "None\n"
     ]
    }
   ],
   "source": [
    "import pandas as pd\n",
    "\n",
    "# Load data\n",
    "train = pd.read_csv('../Deep-Learning-project/dataset/training.csv')\n",
    "test = pd.read_csv('../Deep-Learning-project/dataset/test.csv')\n",
    "validation = pd.read_csv('../Deep-Learning-project/dataset/validation.csv')\n",
    "\n",
    "# Display the first few rows of the training data\n",
    "print(train.head())\n",
    "print(train.info())"
   ]
  },
  {
   "cell_type": "markdown",
   "id": "3e0ab30e",
   "metadata": {},
   "source": [
    "# 2. Preprocess Data\n",
    "Before applying NLP techniques, it's necessary to preprocess the text data."
   ]
  },
  {
   "cell_type": "code",
   "execution_count": 23,
   "id": "118a0322",
   "metadata": {},
   "outputs": [
    {
     "name": "stderr",
     "output_type": "stream",
     "text": [
      "[nltk_data] Downloading package stopwords to\n",
      "[nltk_data]     /Users/chethanats/nltk_data...\n",
      "[nltk_data]   Package stopwords is already up-to-date!\n",
      "[nltk_data] Downloading package punkt to\n",
      "[nltk_data]     /Users/chethanats/nltk_data...\n",
      "[nltk_data]   Package punkt is already up-to-date!\n"
     ]
    }
   ],
   "source": [
    "import re\n",
    "from nltk.corpus import stopwords\n",
    "from nltk.tokenize import word_tokenize\n",
    "\n",
    "# Download necessary NLTK resources\n",
    "import nltk\n",
    "nltk.download('stopwords')\n",
    "nltk.download('punkt')\n",
    "\n",
    "# Preprocessing function\n",
    "def preprocess_text(text):\n",
    "    text = text.lower()  # convert to lowercase\n",
    "    text = re.sub(r'\\d+', '', text)  # remove numbers\n",
    "    text = re.sub(r'[^\\w\\s]', '', text)  # remove punctuation\n",
    "    tokenized = word_tokenize(text)  # tokenize text\n",
    "    cleaned_text = [word for word in tokenized if word not in stopwords.words('english')]  # remove stopwords\n",
    "    return \" \".join(cleaned_text)\n",
    "\n",
    "# Apply preprocessing\n",
    "train['cleaned_text'] = train['text'].apply(preprocess_text)\n",
    "labels_dict = {0:'sad', 1:'happy', 2:'love', 3:'anger', 4:'fear', 5:'surprise'}\n",
    "train['emotion'] = train['label'].map(labels_dict )\n",
    "\n",
    "\n",
    "test['cleaned_text'] = test['text'].apply(preprocess_text)\n",
    "labels_dict = {0:'sad', 1:'happy', 2:'love', 3:'anger', 4:'fear', 5:'surprise'}\n",
    "test['emotion'] = test['label'].map(labels_dict )\n",
    "\n",
    "\n",
    "validation['cleaned_text'] = validation['text'].apply(preprocess_text)\n",
    "labels_dict = {0:'sad', 1:'happy', 2:'love', 3:'anger', 4:'fear', 5:'surprise'}\n",
    "validation['emotion'] = validation['label'].map(labels_dict )"
   ]
  },
  {
   "cell_type": "code",
   "execution_count": 20,
   "id": "fe335841",
   "metadata": {},
   "outputs": [
    {
     "data": {
      "text/html": [
       "<div>\n",
       "<style scoped>\n",
       "    .dataframe tbody tr th:only-of-type {\n",
       "        vertical-align: middle;\n",
       "    }\n",
       "\n",
       "    .dataframe tbody tr th {\n",
       "        vertical-align: top;\n",
       "    }\n",
       "\n",
       "    .dataframe thead th {\n",
       "        text-align: right;\n",
       "    }\n",
       "</style>\n",
       "<table border=\"1\" class=\"dataframe\">\n",
       "  <thead>\n",
       "    <tr style=\"text-align: right;\">\n",
       "      <th></th>\n",
       "      <th>text</th>\n",
       "      <th>label</th>\n",
       "      <th>cleaned_text</th>\n",
       "      <th>emotion</th>\n",
       "    </tr>\n",
       "  </thead>\n",
       "  <tbody>\n",
       "    <tr>\n",
       "      <th>0</th>\n",
       "      <td>im feeling rather rotten so im not very ambiti...</td>\n",
       "      <td>0</td>\n",
       "      <td>im feeling rather rotten im ambitious right</td>\n",
       "      <td>sad</td>\n",
       "    </tr>\n",
       "    <tr>\n",
       "      <th>1</th>\n",
       "      <td>im updating my blog because i feel shitty</td>\n",
       "      <td>0</td>\n",
       "      <td>im updating blog feel shitty</td>\n",
       "      <td>sad</td>\n",
       "    </tr>\n",
       "    <tr>\n",
       "      <th>2</th>\n",
       "      <td>i never make her separate from me because i do...</td>\n",
       "      <td>0</td>\n",
       "      <td>never make separate ever want feel like ashamed</td>\n",
       "      <td>sad</td>\n",
       "    </tr>\n",
       "    <tr>\n",
       "      <th>3</th>\n",
       "      <td>i left with my bouquet of red and yellow tulip...</td>\n",
       "      <td>1</td>\n",
       "      <td>left bouquet red yellow tulips arm feeling sli...</td>\n",
       "      <td>happy</td>\n",
       "    </tr>\n",
       "    <tr>\n",
       "      <th>4</th>\n",
       "      <td>i was feeling a little vain when i did this one</td>\n",
       "      <td>0</td>\n",
       "      <td>feeling little vain one</td>\n",
       "      <td>sad</td>\n",
       "    </tr>\n",
       "  </tbody>\n",
       "</table>\n",
       "</div>"
      ],
      "text/plain": [
       "                                                text  label  \\\n",
       "0  im feeling rather rotten so im not very ambiti...      0   \n",
       "1          im updating my blog because i feel shitty      0   \n",
       "2  i never make her separate from me because i do...      0   \n",
       "3  i left with my bouquet of red and yellow tulip...      1   \n",
       "4    i was feeling a little vain when i did this one      0   \n",
       "\n",
       "                                        cleaned_text emotion  \n",
       "0        im feeling rather rotten im ambitious right     sad  \n",
       "1                       im updating blog feel shitty     sad  \n",
       "2    never make separate ever want feel like ashamed     sad  \n",
       "3  left bouquet red yellow tulips arm feeling sli...   happy  \n",
       "4                            feeling little vain one     sad  "
      ]
     },
     "execution_count": 20,
     "metadata": {},
     "output_type": "execute_result"
    }
   ],
   "source": [
    "test.head()"
   ]
  },
  {
   "cell_type": "code",
   "execution_count": 21,
   "id": "c949222f",
   "metadata": {},
   "outputs": [
    {
     "data": {
      "text/html": [
       "<div>\n",
       "<style scoped>\n",
       "    .dataframe tbody tr th:only-of-type {\n",
       "        vertical-align: middle;\n",
       "    }\n",
       "\n",
       "    .dataframe tbody tr th {\n",
       "        vertical-align: top;\n",
       "    }\n",
       "\n",
       "    .dataframe thead th {\n",
       "        text-align: right;\n",
       "    }\n",
       "</style>\n",
       "<table border=\"1\" class=\"dataframe\">\n",
       "  <thead>\n",
       "    <tr style=\"text-align: right;\">\n",
       "      <th></th>\n",
       "      <th>text</th>\n",
       "      <th>label</th>\n",
       "      <th>cleaned_text</th>\n",
       "      <th>emotion</th>\n",
       "    </tr>\n",
       "  </thead>\n",
       "  <tbody>\n",
       "    <tr>\n",
       "      <th>0</th>\n",
       "      <td>i didnt feel humiliated</td>\n",
       "      <td>0</td>\n",
       "      <td>didnt feel humiliated</td>\n",
       "      <td>sad</td>\n",
       "    </tr>\n",
       "    <tr>\n",
       "      <th>1</th>\n",
       "      <td>i can go from feeling so hopeless to so damned...</td>\n",
       "      <td>0</td>\n",
       "      <td>go feeling hopeless damned hopeful around some...</td>\n",
       "      <td>sad</td>\n",
       "    </tr>\n",
       "    <tr>\n",
       "      <th>2</th>\n",
       "      <td>im grabbing a minute to post i feel greedy wrong</td>\n",
       "      <td>3</td>\n",
       "      <td>im grabbing minute post feel greedy wrong</td>\n",
       "      <td>anger</td>\n",
       "    </tr>\n",
       "    <tr>\n",
       "      <th>3</th>\n",
       "      <td>i am ever feeling nostalgic about the fireplac...</td>\n",
       "      <td>2</td>\n",
       "      <td>ever feeling nostalgic fireplace know still pr...</td>\n",
       "      <td>love</td>\n",
       "    </tr>\n",
       "    <tr>\n",
       "      <th>4</th>\n",
       "      <td>i am feeling grouchy</td>\n",
       "      <td>3</td>\n",
       "      <td>feeling grouchy</td>\n",
       "      <td>anger</td>\n",
       "    </tr>\n",
       "  </tbody>\n",
       "</table>\n",
       "</div>"
      ],
      "text/plain": [
       "                                                text  label  \\\n",
       "0                            i didnt feel humiliated      0   \n",
       "1  i can go from feeling so hopeless to so damned...      0   \n",
       "2   im grabbing a minute to post i feel greedy wrong      3   \n",
       "3  i am ever feeling nostalgic about the fireplac...      2   \n",
       "4                               i am feeling grouchy      3   \n",
       "\n",
       "                                        cleaned_text emotion  \n",
       "0                              didnt feel humiliated     sad  \n",
       "1  go feeling hopeless damned hopeful around some...     sad  \n",
       "2          im grabbing minute post feel greedy wrong   anger  \n",
       "3  ever feeling nostalgic fireplace know still pr...    love  \n",
       "4                                    feeling grouchy   anger  "
      ]
     },
     "execution_count": 21,
     "metadata": {},
     "output_type": "execute_result"
    }
   ],
   "source": [
    "train.head()"
   ]
  },
  {
   "cell_type": "code",
   "execution_count": 22,
   "id": "3353a978",
   "metadata": {},
   "outputs": [
    {
     "data": {
      "text/html": [
       "<div>\n",
       "<style scoped>\n",
       "    .dataframe tbody tr th:only-of-type {\n",
       "        vertical-align: middle;\n",
       "    }\n",
       "\n",
       "    .dataframe tbody tr th {\n",
       "        vertical-align: top;\n",
       "    }\n",
       "\n",
       "    .dataframe thead th {\n",
       "        text-align: right;\n",
       "    }\n",
       "</style>\n",
       "<table border=\"1\" class=\"dataframe\">\n",
       "  <thead>\n",
       "    <tr style=\"text-align: right;\">\n",
       "      <th></th>\n",
       "      <th>text</th>\n",
       "      <th>label</th>\n",
       "      <th>cleaned_text</th>\n",
       "      <th>emotion</th>\n",
       "    </tr>\n",
       "  </thead>\n",
       "  <tbody>\n",
       "    <tr>\n",
       "      <th>0</th>\n",
       "      <td>im feeling quite sad and sorry for myself but ...</td>\n",
       "      <td>0</td>\n",
       "      <td>im feeling quite sad sorry ill snap soon</td>\n",
       "      <td>sad</td>\n",
       "    </tr>\n",
       "    <tr>\n",
       "      <th>1</th>\n",
       "      <td>i feel like i am still looking at a blank canv...</td>\n",
       "      <td>0</td>\n",
       "      <td>feel like still looking blank canvas blank pie...</td>\n",
       "      <td>sad</td>\n",
       "    </tr>\n",
       "    <tr>\n",
       "      <th>2</th>\n",
       "      <td>i feel like a faithful servant</td>\n",
       "      <td>2</td>\n",
       "      <td>feel like faithful servant</td>\n",
       "      <td>love</td>\n",
       "    </tr>\n",
       "    <tr>\n",
       "      <th>3</th>\n",
       "      <td>i am just feeling cranky and blue</td>\n",
       "      <td>3</td>\n",
       "      <td>feeling cranky blue</td>\n",
       "      <td>anger</td>\n",
       "    </tr>\n",
       "    <tr>\n",
       "      <th>4</th>\n",
       "      <td>i can have for a treat or if i am feeling festive</td>\n",
       "      <td>1</td>\n",
       "      <td>treat feeling festive</td>\n",
       "      <td>happy</td>\n",
       "    </tr>\n",
       "  </tbody>\n",
       "</table>\n",
       "</div>"
      ],
      "text/plain": [
       "                                                text  label  \\\n",
       "0  im feeling quite sad and sorry for myself but ...      0   \n",
       "1  i feel like i am still looking at a blank canv...      0   \n",
       "2                     i feel like a faithful servant      2   \n",
       "3                  i am just feeling cranky and blue      3   \n",
       "4  i can have for a treat or if i am feeling festive      1   \n",
       "\n",
       "                                        cleaned_text emotion  \n",
       "0           im feeling quite sad sorry ill snap soon     sad  \n",
       "1  feel like still looking blank canvas blank pie...     sad  \n",
       "2                         feel like faithful servant    love  \n",
       "3                                feeling cranky blue   anger  \n",
       "4                              treat feeling festive   happy  "
      ]
     },
     "execution_count": 22,
     "metadata": {},
     "output_type": "execute_result"
    }
   ],
   "source": [
    "validation.head()"
   ]
  },
  {
   "cell_type": "markdown",
   "id": "dec5ae03",
   "metadata": {},
   "source": [
    "# 3. Visualize Data\n",
    "## a. Label Distribution\n",
    "Visualize the distribution of labels in the training set to understand how balanced the dataset is."
   ]
  },
  {
   "cell_type": "code",
   "execution_count": 38,
   "id": "888b38e5",
   "metadata": {},
   "outputs": [
    {
     "data": {
      "image/png": "[encoded data removed]",
      "text/plain": [
       "<Figure size 640x480 with 1 Axes>"
      ]
     },
     "metadata": {},
     "output_type": "display_data"
    }
   ],
   "source": [
    "import pandas as pd\n",
    "import matplotlib.pyplot as plt\n",
    "\n",
    "# Concatenate emotion data from all three sets\n",
    "all_emotions = pd.concat([train['emotion'], test['emotion'], validation['emotion']])\n",
    "\n",
    "# Visualize label distribution\n",
    "all_emotions.value_counts().plot(kind='bar', color='gray')  \n",
    "plt.title('Distribution of Emotions')\n",
    "plt.xlabel('Emotions')\n",
    "plt.ylabel('Frequency')\n",
    "plt.xticks(rotation=45) \n",
    "plt.show()"
   ]
  },
  {
   "cell_type": "markdown",
   "id": "8b753f01",
   "metadata": {},
   "source": [
    "## b. Word Frequency Analysis\n",
    "Use NLP techniques to visualize the 50 most frequent words."
   ]
  },
  {
   "cell_type": "code",
   "execution_count": 43,
   "id": "11a5610d",
   "metadata": {},
   "outputs": [
    {
     "data": {
      "image/png": "[encoded data removed]",
      "text/plain": [
       "<Figure size 640x480 with 1 Axes>"
      ]
     },
     "metadata": {},
     "output_type": "display_data"
    },
    {
     "data": {
      "text/plain": [
       "[('feel', 13938),\n",
       " ('feeling', 6431),\n",
       " ('like', 3616),\n",
       " ('im', 3055),\n",
       " ('really', 1182),\n",
       " ('know', 1080),\n",
       " ('time', 993),\n",
       " ('little', 932),\n",
       " ('get', 926),\n",
       " ('people', 839),\n",
       " ('want', 802),\n",
       " ('would', 798),\n",
       " ('still', 740),\n",
       " ('one', 739),\n",
       " ('think', 726),\n",
       " ('ive', 723),\n",
       " ('even', 717),\n",
       " ('life', 678),\n",
       " ('bit', 642),\n",
       " ('make', 639),\n",
       " ('something', 630),\n",
       " ('much', 618),\n",
       " ('love', 617),\n",
       " ('things', 607),\n",
       " ('going', 606),\n",
       " ('dont', 596),\n",
       " ('way', 571),\n",
       " ('could', 567),\n",
       " ('day', 540),\n",
       " ('back', 498),\n",
       " ('go', 493),\n",
       " ('pretty', 491),\n",
       " ('good', 481),\n",
       " ('need', 477),\n",
       " ('always', 453),\n",
       " ('right', 444),\n",
       " ('see', 440),\n",
       " ('also', 423),\n",
       " ('feelings', 419),\n",
       " ('feels', 416),\n",
       " ('say', 416),\n",
       " ('work', 407),\n",
       " ('today', 407),\n",
       " ('around', 382),\n",
       " ('cant', 376),\n",
       " ('made', 368),\n",
       " ('though', 365),\n",
       " ('got', 347),\n",
       " ('well', 344),\n",
       " ('didnt', 334)]"
      ]
     },
     "execution_count": 43,
     "metadata": {},
     "output_type": "execute_result"
    }
   ],
   "source": [
    "from collections import Counter\n",
    "\n",
    "all_text = pd.concat([train['cleaned_text'], test['cleaned_text'], validation['cleaned_text']])\n",
    "\n",
    "# Count word frequency\n",
    "word_freq = Counter(\" \".join(all_text).split()).most_common(50)\n",
    "\n",
    "# Plot word frequencies\n",
    "words, counts = zip(*word_freq)\n",
    "plt.bar(words, counts)\n",
    "plt.title('Top 50 most frequent words')\n",
    "plt.xticks(rotation=90)\n",
    "plt.xlabel('Words')\n",
    "plt.ylabel('Frequency')\n",
    "plt.show()\n",
    "word_freq"
   ]
  },
  {
   "cell_type": "markdown",
   "id": "2440e2d5",
   "metadata": {},
   "source": [
    "# 4. Feature Extraction for KNN\n",
    "Transform the text data into numerical data that a KNN classifier can use."
   ]
  },
  {
   "cell_type": "code",
   "execution_count": 15,
   "id": "43c7231a",
   "metadata": {},
   "outputs": [
    {
     "name": "stdout",
     "output_type": "stream",
     "text": [
      "(16000, 15044)\n"
     ]
    }
   ],
   "source": [
    "from sklearn.feature_extraction.text import TfidfVectorizer\n",
    "\n",
    "# Create TF-IDF model\n",
    "vectorizer = TfidfVectorizer()\n",
    "X_train = vectorizer.fit_transform(train['cleaned_text'])\n",
    "y_train = train['emotion']\n",
    "\n",
    "# Inspect the shape of the resulting data\n",
    "print(X_train.shape)"
   ]
  },
  {
   "cell_type": "markdown",
   "id": "3067ca19",
   "metadata": {},
   "source": [
    "# 5. Train KNN Classifier\n",
    "Train a KNN classifier using the features extracted."
   ]
  },
  {
   "cell_type": "code",
   "execution_count": 51,
   "id": "8d6f064a",
   "metadata": {},
   "outputs": [
    {
     "data": {
      "text/html": [
       "<style>#sk-container-id-2 {color: black;}#sk-container-id-2 pre{padding: 0;}#sk-container-id-2 div.sk-toggleable {background-color: white;}#sk-container-id-2 label.sk-toggleable__label {cursor: pointer;display: block;width: 100%;margin-bottom: 0;padding: 0.3em;box-sizing: border-box;text-align: center;}#sk-container-id-2 label.sk-toggleable__label-arrow:before {content: \"▸\";float: left;margin-right: 0.25em;color: #696969;}#sk-container-id-2 label.sk-toggleable__label-arrow:hover:before {color: black;}#sk-container-id-2 div.sk-estimator:hover label.sk-toggleable__label-arrow:before {color: black;}#sk-container-id-2 div.sk-toggleable__content {max-height: 0;max-width: 0;overflow: hidden;text-align: left;background-color: #f0f8ff;}#sk-container-id-2 div.sk-toggleable__content pre {margin: 0.2em;color: black;border-radius: 0.25em;background-color: #f0f8ff;}#sk-container-id-2 input.sk-toggleable__control:checked~div.sk-toggleable__content {max-height: 200px;max-width: 100%;overflow: auto;}#sk-container-id-2 input.sk-toggleable__control:checked~label.sk-toggleable__label-arrow:before {content: \"▾\";}#sk-container-id-2 div.sk-estimator input.sk-toggleable__control:checked~label.sk-toggleable__label {background-color: #d4ebff;}#sk-container-id-2 div.sk-label input.sk-toggleable__control:checked~label.sk-toggleable__label {background-color: #d4ebff;}#sk-container-id-2 input.sk-hidden--visually {border: 0;clip: rect(1px 1px 1px 1px);clip: rect(1px, 1px, 1px, 1px);height: 1px;margin: -1px;overflow: hidden;padding: 0;position: absolute;width: 1px;}#sk-container-id-2 div.sk-estimator {font-family: monospace;background-color: #f0f8ff;border: 1px dotted black;border-radius: 0.25em;box-sizing: border-box;margin-bottom: 0.5em;}#sk-container-id-2 div.sk-estimator:hover {background-color: #d4ebff;}#sk-container-id-2 div.sk-parallel-item::after {content: \"\";width: 100%;border-bottom: 1px solid gray;flex-grow: 1;}#sk-container-id-2 div.sk-label:hover label.sk-toggleable__label {background-color: #d4ebff;}#sk-container-id-2 div.sk-serial::before {content: \"\";position: absolute;border-left: 1px solid gray;box-sizing: border-box;top: 0;bottom: 0;left: 50%;z-index: 0;}#sk-container-id-2 div.sk-serial {display: flex;flex-direction: column;align-items: center;background-color: white;padding-right: 0.2em;padding-left: 0.2em;position: relative;}#sk-container-id-2 div.sk-item {position: relative;z-index: 1;}#sk-container-id-2 div.sk-parallel {display: flex;align-items: stretch;justify-content: center;background-color: white;position: relative;}#sk-container-id-2 div.sk-item::before, #sk-container-id-2 div.sk-parallel-item::before {content: \"\";position: absolute;border-left: 1px solid gray;box-sizing: border-box;top: 0;bottom: 0;left: 50%;z-index: -1;}#sk-container-id-2 div.sk-parallel-item {display: flex;flex-direction: column;z-index: 1;position: relative;background-color: white;}#sk-container-id-2 div.sk-parallel-item:first-child::after {align-self: flex-end;width: 50%;}#sk-container-id-2 div.sk-parallel-item:last-child::after {align-self: flex-start;width: 50%;}#sk-container-id-2 div.sk-parallel-item:only-child::after {width: 0;}#sk-container-id-2 div.sk-dashed-wrapped {border: 1px dashed gray;margin: 0 0.4em 0.5em 0.4em;box-sizing: border-box;padding-bottom: 0.4em;background-color: white;}#sk-container-id-2 div.sk-label label {font-family: monospace;font-weight: bold;display: inline-block;line-height: 1.2em;}#sk-container-id-2 div.sk-label-container {text-align: center;}#sk-container-id-2 div.sk-container {/* jupyter's `normalize.less` sets `[hidden] { display: none; }` but bootstrap.min.css set `[hidden] { display: none !important; }` so we also need the `!important` here to be able to override the default hidden behavior on the sphinx rendered scikit-learn.org. See: https://github.com/scikit-learn/scikit-learn/issues/21755 */display: inline-block !important;position: relative;}#sk-container-id-2 div.sk-text-repr-fallback {display: none;}</style><div id=\"sk-container-id-2\" class=\"sk-top-container\"><div class=\"sk-text-repr-fallback\"><pre>KNeighborsClassifier()</pre><b>In a Jupyter environment, please rerun this cell to show the HTML representation or trust the notebook. <br />On GitHub, the HTML representation is unable to render, please try loading this page with nbviewer.org.</b></div><div class=\"sk-container\" hidden><div class=\"sk-item\"><div class=\"sk-estimator sk-toggleable\"><input class=\"sk-toggleable__control sk-hidden--visually\" id=\"sk-estimator-id-2\" type=\"checkbox\" checked><label for=\"sk-estimator-id-2\" class=\"sk-toggleable__label sk-toggleable__label-arrow\">KNeighborsClassifier</label><div class=\"sk-toggleable__content\"><pre>KNeighborsClassifier()</pre></div></div></div></div></div>"
      ],
      "text/plain": [
       "KNeighborsClassifier()"
      ]
     },
     "execution_count": 51,
     "metadata": {},
     "output_type": "execute_result"
    }
   ],
   "source": [
    "from sklearn.neighbors import KNeighborsClassifier\n",
    "\n",
    "# Initialize and train KNN\n",
    "knn = KNeighborsClassifier(n_neighbors=5)\n",
    "knn.fit(X_train, y_train)"
   ]
  },
  {
   "cell_type": "markdown",
   "id": "051f073c",
   "metadata": {},
   "source": [
    "# 6. Evaluate the Classifier\n",
    "Evaluate the classifier on the validation set."
   ]
  },
  {
   "cell_type": "code",
   "execution_count": 45,
   "id": "1fa421d9",
   "metadata": {},
   "outputs": [
    {
     "name": "stdout",
     "output_type": "stream",
     "text": [
      "0.806\n",
      "              precision    recall  f1-score   support\n",
      "\n",
      "       anger       0.78      0.84      0.81       275\n",
      "        fear       0.72      0.73      0.72       212\n",
      "       happy       0.82      0.87      0.84       704\n",
      "        love       0.85      0.57      0.68       178\n",
      "         sad       0.82      0.86      0.84       550\n",
      "    surprise       0.80      0.51      0.62        81\n",
      "\n",
      "    accuracy                           0.81      2000\n",
      "   macro avg       0.80      0.73      0.75      2000\n",
      "weighted avg       0.81      0.81      0.80      2000\n",
      "\n"
     ]
    }
   ],
   "source": [
    "# Transform the validation text data\n",
    "X_validation = vectorizer.transform(validation['cleaned_text'])\n",
    "y_validation = validation['emotion']\n",
    "\n",
    "# Predict and evaluate\n",
    "from sklearn.metrics import accuracy_score, classification_report\n",
    "predictions = knn.predict(X_validation)\n",
    "print(accuracy_score(y_validation, predictions))\n",
    "print(classification_report(y_validation, predictions))"
   ]
  },
  {
   "cell_type": "markdown",
   "id": "85b5185a",
   "metadata": {},
   "source": [
    "## a. Grid Search with Cross-Validation\n",
    "Implementation of grid search using GridSearchCV from scikit-learn to find the optimal n_neighbors for our KNN classifier."
   ]
  },
  {
   "cell_type": "code",
   "execution_count": null,
   "id": "b18c384b",
   "metadata": {},
   "outputs": [],
   "source": [
    "from sklearn.model_selection import GridSearchCV\n",
    "from sklearn.feature_extraction.text import TfidfVectorizer\n",
    "from sklearn.pipeline import Pipeline\n",
    "\n",
    "# Preprocess and vectorize text data\n",
    "vectorizer = TfidfVectorizer(preprocessor=preprocess_text)  \n",
    "X_train = vectorizer.fit_transform(train['cleaned_text'])\n",
    "y_train = train['emotion']\n",
    "\n",
    "# Create a KNN classifier pipeline\n",
    "knn_pipeline = Pipeline([\n",
    "    ('tfidf', vectorizer),\n",
    "    ('knn', KNeighborsClassifier())\n",
    "])\n",
    "\n",
    "# Define parameters for grid search\n",
    "parameters = {'knn__n_neighbors': range(1, 30)}\n",
    "\n",
    "# Perform grid search with cross-validation\n",
    "grid_search = GridSearchCV(knn_pipeline, parameters, cv=5, scoring='accuracy') \n",
    "grid_search.fit(train['text'], y_train)\n",
    "\n",
    "# Best number of neighbors\n",
    "print(\"Best n_neighbors:\", grid_search.best_params_['knn__n_neighbors'])\n",
    "print(\"Best cross-validated accuracy:\", grid_search.best_score_)"
   ]
  },
  {
   "cell_type": "markdown",
   "id": "72e09606",
   "metadata": {},
   "source": [
    "## b. Random Search Method\n",
    "Random Search is an alternative to Grid Search and more time-efficient"
   ]
  },
  {
   "cell_type": "code",
   "execution_count": 47,
   "id": "0c0443dd",
   "metadata": {},
   "outputs": [
    {
     "name": "stdout",
     "output_type": "stream",
     "text": [
      "Best n_neighbors: {'n_neighbors': 16}\n",
      "Best cross-validated accuracy: 0.8176249999999999\n"
     ]
    }
   ],
   "source": [
    "from sklearn.model_selection import RandomizedSearchCV\n",
    "# Define the parameter space\n",
    "param_dist = {'n_neighbors': range(1, 50)}\n",
    "\n",
    "# Use RandomizedSearchCV\n",
    "random_search = RandomizedSearchCV(knn, param_distributions=param_dist, n_iter=10, cv=5, scoring='accuracy')\n",
    "random_search.fit(X_train, y_train)\n",
    "\n",
    "# Best number of neighbors\n",
    "print(\"Best n_neighbors:\", random_search.best_params_)\n",
    "print(\"Best cross-validated accuracy:\", random_search.best_score_)"
   ]
  },
  {
   "cell_type": "markdown",
   "id": "fe9ef64b",
   "metadata": {},
   "source": [
    "## c. Learning Curve Method\n",
    "Here, The idea is to observe how the performance changes with different values and identify a plateau or sweet spot"
   ]
  },
  {
   "cell_type": "code",
   "execution_count": 50,
   "id": "49934ec6",
   "metadata": {},
   "outputs": [
    {
     "data": {
      "image/png": "[encoded data removed]",
      "text/plain": [
       "<Figure size 640x480 with 1 Axes>"
      ]
     },
     "metadata": {},
     "output_type": "display_data"
    }
   ],
   "source": [
    "from sklearn.metrics import accuracy_score\n",
    "neighbors = range(1, 30)\n",
    "train_accuracy = []\n",
    "val_accuracy = []\n",
    "\n",
    "for n in neighbors:\n",
    "    knn = KNeighborsClassifier(n_neighbors=n)\n",
    "    knn.fit(X_train, y_train)\n",
    "    train_pred = knn.predict(X_train)\n",
    "    val_pred = knn.predict(X_validation)  \n",
    "    train_accuracy.append(accuracy_score(y_train, train_pred))\n",
    "    val_accuracy.append(accuracy_score(y_validation, val_pred))\n",
    "\n",
    "# Plotting\n",
    "plt.plot(neighbors, train_accuracy, label='Training Accuracy')\n",
    "plt.plot(neighbors, val_accuracy, label='Validation Accuracy')\n",
    "plt.xlabel('Number of Neighbors')\n",
    "plt.ylabel('Accuracy')\n",
    "plt.legend()\n",
    "plt.title('KNN Learning Curve')\n",
    "plt.show()"
   ]
  },
  {
   "cell_type": "markdown",
   "id": "09e791b4",
   "metadata": {},
   "source": [
    "Based on this plot, the optimal number of neighbors appears to be around where the validation accuracy curve is highest or before it starts to decline consistently. We might select a value around 10, as it seems to be in the middle of the plateau of the validation curve."
   ]
  },
  {
   "cell_type": "markdown",
   "id": "85780c43",
   "metadata": {},
   "source": [
    "## With K value or Number of Neighbors as 16\n",
    "On using the random search method we get \"Best n_neighbors: {'n_neighbors': 16}\" , therefore on using 16 number of neighbors in KNN classifire we get the following results:"
   ]
  },
  {
   "cell_type": "code",
   "execution_count": 52,
   "id": "77fdec97",
   "metadata": {},
   "outputs": [
    {
     "data": {
      "text/html": [
       "<style>#sk-container-id-3 {color: black;}#sk-container-id-3 pre{padding: 0;}#sk-container-id-3 div.sk-toggleable {background-color: white;}#sk-container-id-3 label.sk-toggleable__label {cursor: pointer;display: block;width: 100%;margin-bottom: 0;padding: 0.3em;box-sizing: border-box;text-align: center;}#sk-container-id-3 label.sk-toggleable__label-arrow:before {content: \"▸\";float: left;margin-right: 0.25em;color: #696969;}#sk-container-id-3 label.sk-toggleable__label-arrow:hover:before {color: black;}#sk-container-id-3 div.sk-estimator:hover label.sk-toggleable__label-arrow:before {color: black;}#sk-container-id-3 div.sk-toggleable__content {max-height: 0;max-width: 0;overflow: hidden;text-align: left;background-color: #f0f8ff;}#sk-container-id-3 div.sk-toggleable__content pre {margin: 0.2em;color: black;border-radius: 0.25em;background-color: #f0f8ff;}#sk-container-id-3 input.sk-toggleable__control:checked~div.sk-toggleable__content {max-height: 200px;max-width: 100%;overflow: auto;}#sk-container-id-3 input.sk-toggleable__control:checked~label.sk-toggleable__label-arrow:before {content: \"▾\";}#sk-container-id-3 div.sk-estimator input.sk-toggleable__control:checked~label.sk-toggleable__label {background-color: #d4ebff;}#sk-container-id-3 div.sk-label input.sk-toggleable__control:checked~label.sk-toggleable__label {background-color: #d4ebff;}#sk-container-id-3 input.sk-hidden--visually {border: 0;clip: rect(1px 1px 1px 1px);clip: rect(1px, 1px, 1px, 1px);height: 1px;margin: -1px;overflow: hidden;padding: 0;position: absolute;width: 1px;}#sk-container-id-3 div.sk-estimator {font-family: monospace;background-color: #f0f8ff;border: 1px dotted black;border-radius: 0.25em;box-sizing: border-box;margin-bottom: 0.5em;}#sk-container-id-3 div.sk-estimator:hover {background-color: #d4ebff;}#sk-container-id-3 div.sk-parallel-item::after {content: \"\";width: 100%;border-bottom: 1px solid gray;flex-grow: 1;}#sk-container-id-3 div.sk-label:hover label.sk-toggleable__label {background-color: #d4ebff;}#sk-container-id-3 div.sk-serial::before {content: \"\";position: absolute;border-left: 1px solid gray;box-sizing: border-box;top: 0;bottom: 0;left: 50%;z-index: 0;}#sk-container-id-3 div.sk-serial {display: flex;flex-direction: column;align-items: center;background-color: white;padding-right: 0.2em;padding-left: 0.2em;position: relative;}#sk-container-id-3 div.sk-item {position: relative;z-index: 1;}#sk-container-id-3 div.sk-parallel {display: flex;align-items: stretch;justify-content: center;background-color: white;position: relative;}#sk-container-id-3 div.sk-item::before, #sk-container-id-3 div.sk-parallel-item::before {content: \"\";position: absolute;border-left: 1px solid gray;box-sizing: border-box;top: 0;bottom: 0;left: 50%;z-index: -1;}#sk-container-id-3 div.sk-parallel-item {display: flex;flex-direction: column;z-index: 1;position: relative;background-color: white;}#sk-container-id-3 div.sk-parallel-item:first-child::after {align-self: flex-end;width: 50%;}#sk-container-id-3 div.sk-parallel-item:last-child::after {align-self: flex-start;width: 50%;}#sk-container-id-3 div.sk-parallel-item:only-child::after {width: 0;}#sk-container-id-3 div.sk-dashed-wrapped {border: 1px dashed gray;margin: 0 0.4em 0.5em 0.4em;box-sizing: border-box;padding-bottom: 0.4em;background-color: white;}#sk-container-id-3 div.sk-label label {font-family: monospace;font-weight: bold;display: inline-block;line-height: 1.2em;}#sk-container-id-3 div.sk-label-container {text-align: center;}#sk-container-id-3 div.sk-container {/* jupyter's `normalize.less` sets `[hidden] { display: none; }` but bootstrap.min.css set `[hidden] { display: none !important; }` so we also need the `!important` here to be able to override the default hidden behavior on the sphinx rendered scikit-learn.org. See: https://github.com/scikit-learn/scikit-learn/issues/21755 */display: inline-block !important;position: relative;}#sk-container-id-3 div.sk-text-repr-fallback {display: none;}</style><div id=\"sk-container-id-3\" class=\"sk-top-container\"><div class=\"sk-text-repr-fallback\"><pre>KNeighborsClassifier(n_neighbors=16)</pre><b>In a Jupyter environment, please rerun this cell to show the HTML representation or trust the notebook. <br />On GitHub, the HTML representation is unable to render, please try loading this page with nbviewer.org.</b></div><div class=\"sk-container\" hidden><div class=\"sk-item\"><div class=\"sk-estimator sk-toggleable\"><input class=\"sk-toggleable__control sk-hidden--visually\" id=\"sk-estimator-id-3\" type=\"checkbox\" checked><label for=\"sk-estimator-id-3\" class=\"sk-toggleable__label sk-toggleable__label-arrow\">KNeighborsClassifier</label><div class=\"sk-toggleable__content\"><pre>KNeighborsClassifier(n_neighbors=16)</pre></div></div></div></div></div>"
      ],
      "text/plain": [
       "KNeighborsClassifier(n_neighbors=16)"
      ]
     },
     "execution_count": 52,
     "metadata": {},
     "output_type": "execute_result"
    }
   ],
   "source": [
    "# Initialize and train KNN\n",
    "knn = KNeighborsClassifier(n_neighbors=16)\n",
    "knn.fit(X_train, y_train)"
   ]
  },
  {
   "cell_type": "code",
   "execution_count": 53,
   "id": "5bc9e3c9",
   "metadata": {},
   "outputs": [
    {
     "name": "stdout",
     "output_type": "stream",
     "text": [
      "0.849\n",
      "              precision    recall  f1-score   support\n",
      "\n",
      "       anger       0.89      0.83      0.86       275\n",
      "        fear       0.85      0.74      0.79       212\n",
      "       happy       0.84      0.94      0.89       704\n",
      "        love       0.93      0.56      0.70       178\n",
      "         sad       0.82      0.93      0.87       550\n",
      "    surprise       0.84      0.52      0.64        81\n",
      "\n",
      "    accuracy                           0.85      2000\n",
      "   macro avg       0.86      0.75      0.79      2000\n",
      "weighted avg       0.85      0.85      0.84      2000\n",
      "\n"
     ]
    }
   ],
   "source": [
    "# Transform the validation text data\n",
    "X_validation = vectorizer.transform(validation['cleaned_text'])\n",
    "y_validation = validation['emotion']\n",
    "\n",
    "# Predict and evaluate\n",
    "from sklearn.metrics import accuracy_score, classification_report\n",
    "predictions = knn.predict(X_validation)\n",
    "print(accuracy_score(y_validation, predictions))\n",
    "print(classification_report(y_validation, predictions))"
   ]
  },
  {
   "cell_type": "markdown",
   "id": "f913e843",
   "metadata": {},
   "source": [
    "## With K value or Number of Neighbors as 10\n",
    "On using the larning curve method we get \"Best n_neighbors: {'n_neighbors': 10}\" , therefore on using 10 number of neighbors in KNN classifire we get the following results:"
   ]
  },
  {
   "cell_type": "code",
   "execution_count": 54,
   "id": "bec75ba1",
   "metadata": {},
   "outputs": [
    {
     "data": {
      "text/html": [
       "<style>#sk-container-id-4 {color: black;}#sk-container-id-4 pre{padding: 0;}#sk-container-id-4 div.sk-toggleable {background-color: white;}#sk-container-id-4 label.sk-toggleable__label {cursor: pointer;display: block;width: 100%;margin-bottom: 0;padding: 0.3em;box-sizing: border-box;text-align: center;}#sk-container-id-4 label.sk-toggleable__label-arrow:before {content: \"▸\";float: left;margin-right: 0.25em;color: #696969;}#sk-container-id-4 label.sk-toggleable__label-arrow:hover:before {color: black;}#sk-container-id-4 div.sk-estimator:hover label.sk-toggleable__label-arrow:before {color: black;}#sk-container-id-4 div.sk-toggleable__content {max-height: 0;max-width: 0;overflow: hidden;text-align: left;background-color: #f0f8ff;}#sk-container-id-4 div.sk-toggleable__content pre {margin: 0.2em;color: black;border-radius: 0.25em;background-color: #f0f8ff;}#sk-container-id-4 input.sk-toggleable__control:checked~div.sk-toggleable__content {max-height: 200px;max-width: 100%;overflow: auto;}#sk-container-id-4 input.sk-toggleable__control:checked~label.sk-toggleable__label-arrow:before {content: \"▾\";}#sk-container-id-4 div.sk-estimator input.sk-toggleable__control:checked~label.sk-toggleable__label {background-color: #d4ebff;}#sk-container-id-4 div.sk-label input.sk-toggleable__control:checked~label.sk-toggleable__label {background-color: #d4ebff;}#sk-container-id-4 input.sk-hidden--visually {border: 0;clip: rect(1px 1px 1px 1px);clip: rect(1px, 1px, 1px, 1px);height: 1px;margin: -1px;overflow: hidden;padding: 0;position: absolute;width: 1px;}#sk-container-id-4 div.sk-estimator {font-family: monospace;background-color: #f0f8ff;border: 1px dotted black;border-radius: 0.25em;box-sizing: border-box;margin-bottom: 0.5em;}#sk-container-id-4 div.sk-estimator:hover {background-color: #d4ebff;}#sk-container-id-4 div.sk-parallel-item::after {content: \"\";width: 100%;border-bottom: 1px solid gray;flex-grow: 1;}#sk-container-id-4 div.sk-label:hover label.sk-toggleable__label {background-color: #d4ebff;}#sk-container-id-4 div.sk-serial::before {content: \"\";position: absolute;border-left: 1px solid gray;box-sizing: border-box;top: 0;bottom: 0;left: 50%;z-index: 0;}#sk-container-id-4 div.sk-serial {display: flex;flex-direction: column;align-items: center;background-color: white;padding-right: 0.2em;padding-left: 0.2em;position: relative;}#sk-container-id-4 div.sk-item {position: relative;z-index: 1;}#sk-container-id-4 div.sk-parallel {display: flex;align-items: stretch;justify-content: center;background-color: white;position: relative;}#sk-container-id-4 div.sk-item::before, #sk-container-id-4 div.sk-parallel-item::before {content: \"\";position: absolute;border-left: 1px solid gray;box-sizing: border-box;top: 0;bottom: 0;left: 50%;z-index: -1;}#sk-container-id-4 div.sk-parallel-item {display: flex;flex-direction: column;z-index: 1;position: relative;background-color: white;}#sk-container-id-4 div.sk-parallel-item:first-child::after {align-self: flex-end;width: 50%;}#sk-container-id-4 div.sk-parallel-item:last-child::after {align-self: flex-start;width: 50%;}#sk-container-id-4 div.sk-parallel-item:only-child::after {width: 0;}#sk-container-id-4 div.sk-dashed-wrapped {border: 1px dashed gray;margin: 0 0.4em 0.5em 0.4em;box-sizing: border-box;padding-bottom: 0.4em;background-color: white;}#sk-container-id-4 div.sk-label label {font-family: monospace;font-weight: bold;display: inline-block;line-height: 1.2em;}#sk-container-id-4 div.sk-label-container {text-align: center;}#sk-container-id-4 div.sk-container {/* jupyter's `normalize.less` sets `[hidden] { display: none; }` but bootstrap.min.css set `[hidden] { display: none !important; }` so we also need the `!important` here to be able to override the default hidden behavior on the sphinx rendered scikit-learn.org. See: https://github.com/scikit-learn/scikit-learn/issues/21755 */display: inline-block !important;position: relative;}#sk-container-id-4 div.sk-text-repr-fallback {display: none;}</style><div id=\"sk-container-id-4\" class=\"sk-top-container\"><div class=\"sk-text-repr-fallback\"><pre>KNeighborsClassifier(n_neighbors=10)</pre><b>In a Jupyter environment, please rerun this cell to show the HTML representation or trust the notebook. <br />On GitHub, the HTML representation is unable to render, please try loading this page with nbviewer.org.</b></div><div class=\"sk-container\" hidden><div class=\"sk-item\"><div class=\"sk-estimator sk-toggleable\"><input class=\"sk-toggleable__control sk-hidden--visually\" id=\"sk-estimator-id-4\" type=\"checkbox\" checked><label for=\"sk-estimator-id-4\" class=\"sk-toggleable__label sk-toggleable__label-arrow\">KNeighborsClassifier</label><div class=\"sk-toggleable__content\"><pre>KNeighborsClassifier(n_neighbors=10)</pre></div></div></div></div></div>"
      ],
      "text/plain": [
       "KNeighborsClassifier(n_neighbors=10)"
      ]
     },
     "execution_count": 54,
     "metadata": {},
     "output_type": "execute_result"
    }
   ],
   "source": [
    "# Initialize and train KNN\n",
    "knn = KNeighborsClassifier(n_neighbors=10)\n",
    "knn.fit(X_train, y_train)"
   ]
  },
  {
   "cell_type": "code",
   "execution_count": 55,
   "id": "e0d96d8e",
   "metadata": {},
   "outputs": [
    {
     "name": "stdout",
     "output_type": "stream",
     "text": [
      "0.835\n",
      "              precision    recall  f1-score   support\n",
      "\n",
      "       anger       0.84      0.82      0.83       275\n",
      "        fear       0.81      0.72      0.77       212\n",
      "       happy       0.83      0.93      0.88       704\n",
      "        love       0.89      0.58      0.70       178\n",
      "         sad       0.83      0.89      0.86       550\n",
      "    surprise       0.83      0.53      0.65        81\n",
      "\n",
      "    accuracy                           0.83      2000\n",
      "   macro avg       0.84      0.75      0.78      2000\n",
      "weighted avg       0.84      0.83      0.83      2000\n",
      "\n"
     ]
    }
   ],
   "source": [
    "# Transform the validation text data\n",
    "X_validation = vectorizer.transform(validation['cleaned_text'])\n",
    "y_validation = validation['emotion']\n",
    "\n",
    "# Predict and evaluate\n",
    "from sklearn.metrics import accuracy_score, classification_report\n",
    "predictions = knn.predict(X_validation)\n",
    "print(accuracy_score(y_validation, predictions))\n",
    "print(classification_report(y_validation, predictions))"
   ]
  },
  {
   "cell_type": "markdown",
   "id": "ec1d97a9",
   "metadata": {},
   "source": [
    "## 7. Compare the Two Methods(Random Search method and Learning curve method)\n",
    "To compare the results from the two methods (Random Search giving n_neighbors=16 and Learning Curve suggesting n_neighbors=10),we create a summary of the performance metrics and plot the comparison for easier visualization."
   ]
  },
  {
   "cell_type": "code",
   "execution_count": 56,
   "id": "349ba322",
   "metadata": {},
   "outputs": [],
   "source": [
    "performance_metrics_16 = {\n",
    "    'accuracy': 0.849,\n",
    "    'precision': {\n",
    "        'anger': 0.89,\n",
    "        'fear': 0.85,\n",
    "        'happy': 0.84,\n",
    "        'love': 0.93,\n",
    "        'sad': 0.82,\n",
    "        'surprise': 0.84\n",
    "    },\n",
    "    'recall': {\n",
    "        'anger': 0.83,\n",
    "        'fear': 0.74,\n",
    "        'happy': 0.94,\n",
    "        'love': 0.56,\n",
    "        'sad': 0.93,\n",
    "        'surprise': 0.52\n",
    "    },\n",
    "    'f1-score': {\n",
    "        'anger': 0.86,\n",
    "        'fear': 0.79,\n",
    "        'happy': 0.89,\n",
    "        'love': 0.70,\n",
    "        'sad': 0.87,\n",
    "        'surprise': 0.64\n",
    "    }\n",
    "}\n",
    "\n",
    "performance_metrics_10 = {\n",
    "    'accuracy': 0.835,\n",
    "    'precision': {\n",
    "        'anger': 0.84,\n",
    "        'fear': 0.81,\n",
    "        'happy': 0.83,\n",
    "        'love': 0.89,\n",
    "        'sad': 0.83,\n",
    "        'surprise': 0.83\n",
    "    },\n",
    "    'recall': {\n",
    "        'anger': 0.82,\n",
    "        'fear': 0.72,\n",
    "        'happy': 0.93,\n",
    "        'love': 0.58,\n",
    "        'sad': 0.89,\n",
    "        'surprise': 0.53\n",
    "    },\n",
    "    'f1-score': {\n",
    "        'anger': 0.83,\n",
    "        'fear': 0.77,\n",
    "        'happy': 0.88,\n",
    "        'love': 0.70,\n",
    "        'sad': 0.86,\n",
    "        'surprise': 0.65\n",
    "    }\n",
    "}\n"
   ]
  },
  {
   "cell_type": "code",
   "execution_count": 59,
   "id": "5c4a9e35",
   "metadata": {},
   "outputs": [
    {
     "data": {
      "image/png": "[encoded data removed]",
      "text/plain": [
       "<Figure size 1500x500 with 3 Axes>"
      ]
     },
     "metadata": {},
     "output_type": "display_data"
    },
    {
     "data": {
      "image/png": "[encoded data removed]",
      "text/plain": [
       "<Figure size 600x400 with 1 Axes>"
      ]
     },
     "metadata": {},
     "output_type": "display_data"
    }
   ],
   "source": [
    "import numpy as np\n",
    "# List of emotions\n",
    "emotions = ['anger', 'fear', 'happy', 'love', 'sad', 'surprise']\n",
    "\n",
    "# Metrics to plot\n",
    "metrics = ['precision', 'recall', 'f1-score']\n",
    "\n",
    "# Create subplots\n",
    "fig, axes = plt.subplots(nrows=1, ncols=3, figsize=(15, 5))\n",
    "axes = axes.ravel()\n",
    "\n",
    "for idx, metric in enumerate(metrics):\n",
    "    scores_16 = [performance_metrics_16[metric][emotion] for emotion in emotions]\n",
    "    scores_10 = [performance_metrics_10[metric][emotion] for emotion in emotions]\n",
    "    \n",
    "    bar_width = 0.35\n",
    "    index = np.arange(len(emotions))\n",
    "    \n",
    "    axes[idx].bar(index, scores_16, bar_width, label='K=16', color='black')\n",
    "    axes[idx].bar(index + bar_width, scores_10, bar_width, label='K=10', color='gray')\n",
    "    \n",
    "    axes[idx].set_title(f'{metric.capitalize()} Comparison')\n",
    "    axes[idx].set_xticks(index + bar_width / 2)\n",
    "    axes[idx].set_xticklabels(emotions)\n",
    "    axes[idx].legend()\n",
    "\n",
    "# Overall accuracy comparison\n",
    "plt.figure(figsize=(6, 4))\n",
    "plt.bar(['K=16', 'K=10'], [performance_metrics_16['accuracy'], performance_metrics_10['accuracy']], color=['black', 'gray'])\n",
    "plt.title('Overall Accuracy Comparison')\n",
    "plt.ylabel('Accuracy')\n",
    "\n",
    "plt.tight_layout()\n",
    "plt.show()"
   ]
  }
 ],
 "metadata": {
  "kernelspec": {
   "display_name": "Python 3 (ipykernel)",
   "language": "python",
   "name": "python3"
  },
  "language_info": {
   "codemirror_mode": {
    "name": "ipython",
    "version": 3
   },
   "file_extension": ".py",
   "mimetype": "text/x-python",
   "name": "python",
   "nbconvert_exporter": "python",
   "pygments_lexer": "ipython3",
   "version": "3.11.5"
  }
 },
 "nbformat": 4,
 "nbformat_minor": 5
}
